{
 "cells": [
  {
   "cell_type": "markdown",
   "id": "71b00e15",
   "metadata": {},
   "source": [
    "# Assignment 1\n",
    "\n",
    "**Author:** Lorenzo Bozzi\n",
    "\n",
    "**Computer info:** MacBook Air, Chip: Apple M1, Ram: 8GB, macOs 13.4.1, 2020\n",
    "\n",
    "**Note:** for a more complete report, look .pdf file attached.\n",
    "## Exercise 1\n",
    "\n",
    "> (1 point) Recreate the example shown in slides 10-13 in the Introduction lecture. First, compute the probabilities of obtaining x \"heads\" out of 30 coin flips using a fair coin (i.e., probability of \"heads\" = 0.5), where x = 0, ..., 30. Then plot the probabilities p(x) against x. What is the probability of observing 20 or more heads? If you use p ≤ 0.05 as a threshold to reject a null hypothesis, H0 = \"the coin is fair\" against alternative hypothesis HA = \"the coin is not fair,\" i.e., probability of heads ≠ 0.5, how many heads do you need to observe to reject the null hypothesis? Useful R functions: dbinom, pbinom.\n",
    "\n",
    "\n",
    "In theory, each coin toss follows a Rademacher process if the coin is unbiased. Let $X_k$ with $k=1,\\dots,n$ be the random variables representing the outcome of each toss, and we state that $X_k\\in\\{0,1\\}$, where $1$ corresponds to heads. The probability of having $m$ victories in $30$ tosses follows a binomial distribution(I'll take $p=0.5$ as probability of getting one head):\n",
    "\n",
    "\n",
    "$$\n",
    "\\mathbb{P}(\\{\\text{more than 20 heads}\\}) = \\mathbb{P}\\left(\\sum_{k=1}^{30}X_k\\geq 20\\right) = \\sum_{k=20}^{30}\\binom{30}{k}0.05^{k}0.95^{30-k}\\approx0.049\n",
    "$$"
   ]
  },
  {
   "cell_type": "code",
   "execution_count": 1,
   "id": "87dffc35-32c3-47c7-b869-ce4e0f3b115f",
   "metadata": {
    "tags": []
   },
   "outputs": [],
   "source": [
    "# Function to calculate the probability of getting more than 20 heads in n_tosses\n",
    "prob_more_than_20_heads <- function(n_tosses) {\n",
    "  p <- 0.5  # probability of getting heads in a single toss\n",
    "  k <- 20   # desired number of heads\n",
    "\n",
    "  # Calculation of cumulative probability\n",
    "  prob <- 1 - pbinom(k - 1, n_tosses, p)\n",
    "\n",
    "  return(prob)\n",
    "}"
   ]
  },
  {
   "cell_type": "code",
   "execution_count": 2,
   "id": "f5eac2ff-c6e6-426d-a20d-c3bc37fac96c",
   "metadata": {
    "tags": []
   },
   "outputs": [
    {
     "name": "stdout",
     "output_type": "stream",
     "text": [
      "--------------------\n",
      "Point 1\n",
      "--------------------\n",
      "The probability of getting more than 20 heads in 30 tosses is: 0.04936857 \n"
     ]
    }
   ],
   "source": [
    "N <- 30\n",
    "# Using the function with 30 tosses\n",
    "probability <- prob_more_than_20_heads(N)\n",
    "\n",
    "# Print the result\n",
    "cat(\"--------------------\\n\")\n",
    "cat(\"Point 1\\n\")\n",
    "cat(\"--------------------\\n\")\n",
    "cat(\"The probability of getting more than 20 heads in 30 tosses is:\", probability, \"\\n\")"
   ]
  },
  {
   "cell_type": "markdown",
   "id": "3fc44a0a-dfed-46dd-aeaf-06937d8e972a",
   "metadata": {},
   "source": [
    "Let us suppose that we want to decide whether a coin is fair($H_0$) or not."
   ]
  },
  {
   "cell_type": "code",
   "execution_count": 3,
   "id": "e700ee65",
   "metadata": {
    "tags": []
   },
   "outputs": [
    {
     "name": "stdout",
     "output_type": "stream",
     "text": [
      "Number of heads needed to reject the null hypothesis: 19 \n"
     ]
    }
   ],
   "source": [
    "theta <- 0.5\n",
    "x <- 0:N\n",
    "\n",
    "probs <- dbinom(x, size = N, prob = theta)\n",
    "\n",
    "rejects <- qbinom(0.05, size = N, prob = theta, lower.tail = FALSE)\n",
    "cat(\"Number of heads needed to reject the null hypothesis:\", rejects, \"\\n\")"
   ]
  },
  {
   "cell_type": "code",
   "execution_count": 4,
   "id": "cb16f94d-c882-469e-97b7-ec3fc95be966",
   "metadata": {
    "tags": []
   },
   "outputs": [
    {
     "data": {
      "text/html": [
       "<strong>png:</strong> 2"
      ],
      "text/latex": [
       "\\textbf{png:} 2"
      ],
      "text/markdown": [
       "**png:** 2"
      ],
      "text/plain": [
       "png \n",
       "  2 "
      ]
     },
     "metadata": {},
     "output_type": "display_data"
    }
   ],
   "source": [
    "png(\"histogram.png\")\n",
    "plot(x, probs, type = \"h\", lwd = 2, col = \"purple\",\n",
    "     xlab = \"Num. Heads\", ylab = \"Prob.\")\n",
    "dev.off()"
   ]
  },
  {
   "cell_type": "markdown",
   "id": "b8a21500",
   "metadata": {},
   "source": [
    "## Exercise 2\n",
    ">(4 points) Hypothesis testing using t-test and multiple correction. Use set.seed(0511) for setting the seed number."
   ]
  },
  {
   "cell_type": "code",
   "execution_count": 5,
   "id": "7c1e5ce5-136d-4ecb-acc4-9a4aece9f9a4",
   "metadata": {
    "tags": []
   },
   "outputs": [
    {
     "name": "stdout",
     "output_type": "stream",
     "text": [
      "--------------------\n",
      "Point 2\n",
      "--------------------\n"
     ]
    }
   ],
   "source": [
    "set.seed(0511)\n",
    "cat(\"--------------------\\n\")\n",
    "cat(\"Point 2\\n\")\n",
    "cat(\"--------------------\\n\")"
   ]
  },
  {
   "cell_type": "markdown",
   "id": "9fa8308f-ff5d-48ea-a999-fdbb2acc4d40",
   "metadata": {},
   "source": [
    "### Point a \n",
    ">(0.5 points) Generate normally distributed expression data for 100 genes for two\n",
    "groups $A$ and $B$ with 8 replicates for each group, where $\\mu_A = \\mu_B = 0$ and $\\sigma^2_A=\\sigma^2_B=3$\n",
    "Useful R functions: rnorm"
   ]
  },
  {
   "cell_type": "code",
   "execution_count": 6,
   "id": "9cb7b7f5-2deb-4840-92db-5cdf9e7cb196",
   "metadata": {
    "tags": []
   },
   "outputs": [
    {
     "name": "stdout",
     "output_type": "stream",
     "text": [
      "Expression data for group A:\n",
      "            [,1]       [,2]       [,3]       [,4]       [,5]       [,6]\n",
      "[1,]  0.03997545  2.0733005 -2.8898691 -0.1895799 -0.2140362 -3.1341510\n",
      "[2,]  0.85238706  3.2222186 -1.3325066  0.7995441  1.4293917  0.2186847\n",
      "[3,] -0.96124707  2.3231137 -1.3280215 -1.5803100  1.3522997 -1.0348508\n",
      "[4,] -0.98026958 -0.4305059  0.6002925  1.1249139  0.6693289  0.5263191\n",
      "[5,] -1.62220947 -0.1702887  1.2270950  2.4352633  0.8976095  1.8068520\n",
      "[6,]  0.30679715  1.5305657  0.3553248  0.9436811  2.0224535  1.1026372\n",
      "           [,7]        [,8]\n",
      "[1,] -0.3882387  1.13298662\n",
      "[2,] -0.2167388 -0.05904849\n",
      "[3,] -0.4949928 -2.62090003\n",
      "[4,]  1.0616980  1.24152315\n",
      "[5,] -1.6932495  2.50823088\n",
      "[6,]  2.5523662 -4.76158323\n",
      "Expression data for group B:\n",
      "           [,1]       [,2]       [,3]       [,4]       [,5]       [,6]\n",
      "[1,]  0.1387761 -0.9340233  3.3300384 -3.6938891  0.8955102  0.8061786\n",
      "[2,] -0.1852919  1.0312506  0.4301282  0.4175880  1.5951229 -0.7355084\n",
      "[3,] -0.7348318  0.9835290 -2.3589174 -2.9916257  0.5276978 -1.6096779\n",
      "[4,]  0.9064913 -0.1292442 -0.3617692 -0.3151065 -1.8573905  1.7516598\n",
      "[5,]  1.5008587  0.7920098  0.2288693 -0.1006716 -1.0471076  1.3352185\n",
      "[6,] -1.2444343  0.7421152  0.5051429 -1.1405315 -1.6774745 -2.3816862\n",
      "           [,7]       [,8]\n",
      "[1,]  0.2981145  1.3908637\n",
      "[2,]  0.6672986  0.5011208\n",
      "[3,] -1.3242176 -0.1906692\n",
      "[4,] -2.5077138  0.3210543\n",
      "[5,] -1.7659662  0.4660444\n",
      "[6,]  3.1162254  0.4196244\n"
     ]
    }
   ],
   "source": [
    "n_genes <- 100\n",
    "n_replicates <- 8\n",
    "mu_A_B<-0\n",
    "sd_A_B<-sqrt(3)\n",
    "\n",
    "# Generate data for group A\n",
    "data_A <- matrix(rnorm(n_genes * n_replicates, mean = mu_A_B, sd = sd_A_B), nrow = n_genes, ncol = n_replicates)\n",
    "\n",
    "# Generate data for group B\n",
    "data_B <- matrix(rnorm(n_genes * n_replicates, mean = mu_A_B, sd = sd_A_B), nrow = n_genes, ncol = n_replicates)\n",
    "\n",
    "\n",
    "cat(\"Expression data for group A:\\n\")\n",
    "print(head(data_A))\n",
    "\n",
    "\n",
    "cat(\"Expression data for group B:\\n\")\n",
    "print(head(data_B))"
   ]
  },
  {
   "cell_type": "markdown",
   "id": "a0c10fa3",
   "metadata": {},
   "source": [
    "### Point b \n",
    ">(0.5 points) For each gene, test the null hypothesis, $H_0\\colon \\mu_A = \\mu_B$, using $t$-test\n",
    "when alternative hypothesis is $H_A$ : $\\mu_A \\ne \\mu_B$ and plot the $p$-values in\n",
    "a histogram. How many genes have $p \\leq 0.05$?\n",
    "Useful R functions: t.test (use var.equal=TRUE), hist"
   ]
  },
  {
   "cell_type": "code",
   "execution_count": 7,
   "id": "89fead2f",
   "metadata": {
    "tags": []
   },
   "outputs": [
    {
     "data": {
      "text/html": [
       "<strong>png:</strong> 2"
      ],
      "text/latex": [
       "\\textbf{png:} 2"
      ],
      "text/markdown": [
       "**png:** 2"
      ],
      "text/plain": [
       "png \n",
       "  2 "
      ]
     },
     "metadata": {},
     "output_type": "display_data"
    }
   ],
   "source": [
    "p_values <- rep(0, n_genes) \n",
    "\n",
    "for (i in 1:n_genes) {\n",
    "  t_test_result <- t.test(data_A[i,], data_B[i,], var.equal = TRUE)\n",
    "  p_values[i] <- t_test_result$p.value\n",
    "}\n",
    "\n",
    "png(\"histogram2.1.png\")\n",
    "\n",
    "hist(p_values, breaks = 20, main = \"Histogram (point b)\", xlab = \"p-values\")\n",
    "dev.off()"
   ]
  },
  {
   "cell_type": "code",
   "execution_count": 8,
   "id": "5e01cf41-1716-48ca-a836-3f7dc51b1223",
   "metadata": {
    "tags": []
   },
   "outputs": [
    {
     "name": "stdout",
     "output_type": "stream",
     "text": [
      "Original p-values: 0.4594068 0.785477 0.585063 0.2034205 0.4977549 0.4927942 \n"
     ]
    }
   ],
   "source": [
    "cat(\"Original p-values:\", head(p_values), \"\\n\")"
   ]
  },
  {
   "cell_type": "code",
   "execution_count": 9,
   "id": "d22a9182-4ca0-45de-bf41-9312641531d9",
   "metadata": {
    "tags": []
   },
   "outputs": [
    {
     "data": {
      "text/plain": [
       "   Mode   FALSE    TRUE \n",
       "logical      93       7 "
      ]
     },
     "metadata": {},
     "output_type": "display_data"
    }
   ],
   "source": [
    "summary(p_values <= 0.05)"
   ]
  },
  {
   "cell_type": "markdown",
   "id": "87175302",
   "metadata": {},
   "source": [
    "As we can see above we've detected 7 genes with $p\\leq0.05$.\n",
    "\n",
    "### Point c\n",
    "> (0.5 points) Implement the Bonferroni method for adjusting p-values for multiple testing. (You can implement this as an R function, see for example http://www.statmethods.net/management/userfunctions.html). Adjust the $p$-values using your implementation. How many genes have adjusted $p\\leq 0.05$? Comment on differences with uncorrected $p$-values, if any. Useful R functions: pmin\n",
    "\n",
    "From lecture Notes:\n",
    "\n",
    "- Let $H(1), \\ldots, H(m)$ be a collection of hypotheses and $p_1, \\ldots, p_m$ the corresponding p-values.\n",
    "- Let $I_0 \\subseteq \\{1, \\ldots, m\\}$ be the (unknown) subset of the true null hypotheses, $m_0 = |I_0| \\leq m$\n",
    "\n",
    "### Bonferroni Correction\n",
    "\n",
    "- The Bonferroni correction is defined as follows:\n",
    "  - Given the original significance level $\\alpha$ and the number of statistical tests $m$, then Bonferroni correction will reject only those null hypotheses $i$ for which $p_i \\leq \\frac{\\alpha}{m}$.\n",
    "  - Equivalently, the multiple testing corrected p-value for the $i$-th test is $\\min\\{m \\cdot p_i, 1\\}$.\n",
    "- For the Bonferroni correction method, Family-Wise Error Rate (FWER) $\\leq \\alpha$ because\n",
    "  $$\n",
    "  \\text{FWER} = P\\left[\\bigcup_{i \\in I_0} (p_i \\leq m \\alpha)\\right] \\leq \\alpha\n",
    "  $$\n",
    "  (Note: each $p_i \\leq m \\alpha$ is considered as an event, and the inequality follows from the union bound).\n",
    "- The Bonferroni correction is conservative\n"
   ]
  },
  {
   "cell_type": "code",
   "execution_count": 10,
   "id": "bc2914d6",
   "metadata": {
    "tags": []
   },
   "outputs": [],
   "source": [
    "# Bonferroni correction\n",
    "bonferroni_correction <- function(p_values, alpha = 0.05, prnt = TRUE) {\n",
    "  m <- length(p_values)\n",
    "  adjusted_p_values <- pmin(m * p_values, 1)\n",
    "  rejected <- adjusted_p_values <= alpha\n",
    "  \n",
    "  if (prnt) {\n",
    "    # Printing (just a sample)\n",
    "    cat(\"Original p-values:\", head(p_values), \"\\n\")\n",
    "    cat(\"Adjusted p-values (Bonferroni):\", head(adjusted_p_values), \"\\n\")\n",
    "    cat(\"Rejected hypotheses (Bonferroni):\", sum(rejected), \"\\n\")\n",
    "    \n",
    "    genes_with_adjusted_p_leq_0.05_bonferroni <- sum(adjusted_p_values <= 0.05, na.rm = TRUE)\n",
    "    original_leq_0.05 <- sum(p_values <= 0.05, na.rm = TRUE)\n",
    "    cat(\"Number of genes with adjusted (Bonferroni) <= 0.05:\", original_leq_0.05 - genes_with_adjusted_p_leq_0.05_bonferroni, \"\\n\")\n",
    "  }\n",
    "  \n",
    "  return(list(adjusted_p_values = adjusted_p_values, rejected = rejected))\n",
    "}"
   ]
  },
  {
   "cell_type": "code",
   "execution_count": 11,
   "id": "db5ad913-4098-45f4-b180-e131b0e3b833",
   "metadata": {
    "tags": []
   },
   "outputs": [
    {
     "name": "stdout",
     "output_type": "stream",
     "text": [
      "Original p-values: 0.4594068 0.785477 0.585063 0.2034205 0.4977549 0.4927942 \n",
      "Adjusted p-values (Bonferroni): 1 1 1 1 1 1 \n",
      "Rejected hypotheses (Bonferroni): 0 \n",
      "Number of genes with adjusted (Bonferroni) <= 0.05: 7 \n"
     ]
    }
   ],
   "source": [
    "result_bonferroni <- bonferroni_correction(p_values, alpha=0.05)\n",
    "adjusted_p_values_bonferroni <- result_bonferroni$adjusted_p_values\n",
    "rejected_hypotheses_bonferroni <- result_bonferroni$rejected"
   ]
  },
  {
   "cell_type": "code",
   "execution_count": 12,
   "id": "534c00f4-84a1-4e3d-ba1a-46a72c9ec0a6",
   "metadata": {
    "tags": []
   },
   "outputs": [
    {
     "data": {
      "text/html": [
       "<strong>png:</strong> 2"
      ],
      "text/latex": [
       "\\textbf{png:} 2"
      ],
      "text/markdown": [
       "**png:** 2"
      ],
      "text/plain": [
       "png \n",
       "  2 "
      ]
     },
     "metadata": {},
     "output_type": "display_data"
    }
   ],
   "source": [
    "png(\"histogram2.2.png\")\n",
    "\n",
    "hist(adjusted_p_values_bonferroni, breaks = 20, main = \"Histogram (Bonf.)\", xlab = \"p-values\")\n",
    "dev.off()"
   ]
  },
  {
   "cell_type": "markdown",
   "id": "a1cebc08",
   "metadata": {},
   "source": [
    "In the specific context of our analysis, the application of the Bonferroni correction led to the upward adjustment of all p-values for the seven genes that initially exhibited p-values less than or equal to 0.05. This conservative nature of the correction method is evident in its tendency to increase p-values, often resulting in a more stringent significance threshold. Consequently, in our case, this adjustment resulted in categorizing all genes as significant, emphasizing the cautious and stringent nature of the Bonferroni correction.\n",
    "\n",
    "### Point d\n",
    ">(1 point) Same as (c), but implement the Benjamini-Hochberg method. Adjust the p-values using your implementation. How many genes have adjusted p ≤ 0.05? Comment on differences with uncorrected p-values,\n",
    "if any. Useful R functions: order, pmin, min.\n",
    "\n",
    "From lecture notes\n",
    "\n",
    "▶ The Benjamini-Hochberg (BH) step-up procedure is commonly used in bioinformatics applications\n",
    "▶ Let $q \\in [0,1]$ be given and $p(1) \\leq p(2) \\leq \\ldots \\leq p(m)$ be the ordered list of the $m$ p-values, then the BH procedure works as follows:\n",
    "  1. Find the largest $k$ such that $p(k) \\leq \\frac{kq}{m}$\n",
    "  2. Then reject all $H(i)$ for $i = 1, \\ldots, k$\n",
    "▶ For BH, the probability of the expected proportion of false positives $\\leq q$\n",
    "▶ The FDR value $q_k$ for each test $k$ can be obtained from mapping $\\min\\left(\\frac{mk}{p(k)}, 1\\right)$ (and by guaranteeing that FDR values do not decrease as $k$ increases)"
   ]
  },
  {
   "cell_type": "code",
   "execution_count": 13,
   "id": "5d459273-41ec-4447-a8a1-5d82368cc1b7",
   "metadata": {
    "tags": []
   },
   "outputs": [],
   "source": [
    "bh_correction <- function(p_values, alpha = 0.05, prt = TRUE) {\n",
    "  \n",
    "  # Get the number of p-values\n",
    "  n = length(p_values)\n",
    "  \n",
    "  # Convert p-values to numeric (if not already)\n",
    "  p_values <- as.numeric(p_values)\n",
    "  \n",
    "  # Initialize adjusted p-values with the original p-values\n",
    "  p_adjusted <- p_values\n",
    "  \n",
    "  # Check for missing values in p_values\n",
    "  if (all(nna <- !is.na(p_values))) nna <- TRUE\n",
    "  p_values <- p_values[nna]\n",
    "  lp <- length(p_values)\n",
    "  \n",
    "  # Ensure that the length of p_values is not greater than n\n",
    "  stopifnot(n >= lp)\n",
    "  \n",
    "  # Rank p-values in descending order\n",
    "  i <- lp:1L\n",
    "  order <- order(p_values, decreasing = TRUE)\n",
    "  ro <- order(order)#needed to preserve order\n",
    "  \n",
    "  # Calculate adjusted p-values using Benjamini-Hochberg method\n",
    "  p_adjusted[nna] <- pmin(1, cummin(n / i * p_values[order]))[ro]\n",
    "  \n",
    "  # Count the number of rejected hypotheses (p_adjusted < alpha)\n",
    "  rejected = sum(p_adjusted < alpha, na.rm = TRUE)\n",
    "  \n",
    "  # Print results if prt is TRUE\n",
    "  if (prt) {\n",
    "    # Printing (just a sample)\n",
    "    #cat(\"Original p-values:\", head(p_values), \"\\n\")\n",
    "    cat(\"Adjusted p-values (BH):\", head(p_adjusted), \"\\n\")\n",
    "    cat(\"Rejected hypotheses (BH):\", rejected, \"\\n\")\n",
    "  }\n",
    "  \n",
    "  # Return a list containing adjusted p-values and the number of rejected hypotheses\n",
    "  return(list(adjusted_p_values = p_adjusted, rejected = rejected))\n",
    "}"
   ]
  },
  {
   "cell_type": "code",
   "execution_count": 14,
   "id": "4d2bf9b1-8a74-4bb6-94b1-4856410d40b1",
   "metadata": {
    "tags": []
   },
   "outputs": [
    {
     "name": "stdout",
     "output_type": "stream",
     "text": [
      "Adjusted p-values (BH): 0.9188137 0.9634508 0.9535794 0.816226 0.9217683 0.9217683 \n",
      "Rejected hypotheses (BH): 0 \n"
     ]
    },
    {
     "data": {
      "image/png": "[encoded data removed]",
      "text/plain": [
       "Plot with title “Histogram (BH)”"
      ]
     },
     "metadata": {
      "image/png": {
       "height": 420,
       "width": 420
      }
     },
     "output_type": "display_data"
    }
   ],
   "source": [
    "result_bh <- bh_correction(p_values)\n",
    "\n",
    "adjusted_p_values_bh <- result_bh$adjusted_p_values\n",
    "rejected_hypotheses_bh <- result_bh$rejected\n",
    "\n",
    "\n",
    "hist(adjusted_p_values_bh, breaks = 20, main = \"Histogram (BH)\", xlab = \"p-values\")"
   ]
  },
  {
   "cell_type": "markdown",
   "id": "181fdfbc",
   "metadata": {},
   "source": [
    "In this case, the Benjamin correction was applied. It is noteworthy that all p-values were adjusted, primarily increased, encompassing those 7 genes that had initially been identified as having limited significance by the initial p-test ($p \\leq 0.05$). Despite being less conservative than the Bonferroni correction, this method substantiates the same outcomes. The fact that both correction methods led to the same set of genes being identified suggests that the genes in question may have marginal significance, and the adjustment did not provide enough evidence to reject the null hypothesis for these genes. This is not necessarily an indication of false negatives.\n",
    "\n",
    "### Point e \n",
    ">(0.5 points) Generate expression values for 80 genes for groups A and B, where $\\mu_A = \\mu_B = 0$ and $\\sigma^2_A=\\sigma^2_B=3$ with 8 replicates for each group. Generate similar expression values for 20 genes but with $\\mu_A = 0$, $\\mu_B = 4$ and $\\sigma^2_A=\\sigma^2_B=3$."
   ]
  },
  {
   "cell_type": "code",
   "execution_count": 15,
   "id": "81aaa53f",
   "metadata": {},
   "outputs": [],
   "source": [
    "n_genes_new=80\n",
    "n_genes_new1=20\n",
    "n_replicates_new=8\n",
    "mu_A_new=0\n",
    "mu_B_new1=4\n",
    "sd_new=sqrt(3)"
   ]
  },
  {
   "cell_type": "code",
   "execution_count": 16,
   "id": "be7df20d-89bc-43b8-8290-5359f9d601c4",
   "metadata": {
    "tags": []
   },
   "outputs": [
    {
     "name": "stdout",
     "output_type": "stream",
     "text": [
      "Dimensions of tmp1 matrix: 80 8 \n",
      "Dimensions of tmp2 matrix: 20 8 \n",
      "Dimensions of group_A_data matrix: 100 8 \n"
     ]
    }
   ],
   "source": [
    "#GROUP A\n",
    "tmp1= matrix(rnorm(n_genes_new * n_replicates_new, mean = mu_A_new, sd = sd_new), nrow = n_genes_new, ncol = n_replicates_new)\n",
    "tmp2=matrix(rnorm(n_genes_new1 * n_replicates_new, mean = mu_A_new, sd = sd_new), nrow = n_genes_new1, ncol = n_replicates_new)\n",
    "\n",
    "data_A_new <- rbind(tmp1, tmp2)\n",
    "\n",
    "# Print dimensions\n",
    "cat(\"Dimensions of tmp1 matrix:\", dim(tmp1), \"\\n\")\n",
    "cat(\"Dimensions of tmp2 matrix:\", dim(tmp2), \"\\n\")\n",
    "cat(\"Dimensions of group_A_data matrix:\", dim(data_A_new), \"\\n\")"
   ]
  },
  {
   "cell_type": "code",
   "execution_count": 17,
   "id": "3857e680-84f9-42d4-8914-95689b961a5f",
   "metadata": {
    "tags": []
   },
   "outputs": [
    {
     "name": "stdout",
     "output_type": "stream",
     "text": [
      "Dimensions of tmp1 matrix: 80 8 \n",
      "Dimensions of tmp2 matrix: 20 8 \n",
      "Dimensions of group_B_data matrix: 100 8 \n"
     ]
    }
   ],
   "source": [
    "#GROUP B\n",
    "tmp1= matrix(rnorm(n_genes_new * n_replicates_new, mean = mu_A_new, sd = sd_new), nrow = n_genes_new, ncol = n_replicates_new)\n",
    "tmp2=matrix(rnorm(n_genes_new1 * n_replicates_new, mean = mu_B_new1, sd = sd_new), nrow = n_genes_new1, ncol = n_replicates_new)\n",
    "\n",
    "data_B_new <- rbind(tmp1, tmp2)\n",
    "\n",
    "# Print dimensions\n",
    "cat(\"Dimensions of tmp1 matrix:\", dim(tmp1), \"\\n\")\n",
    "cat(\"Dimensions of tmp2 matrix:\", dim(tmp2), \"\\n\")\n",
    "cat(\"Dimensions of group_B_data matrix:\", dim(data_B_new), \"\\n\")"
   ]
  },
  {
   "cell_type": "markdown",
   "id": "5f2c72e1",
   "metadata": {},
   "source": [
    "## Point f\n",
    ">(0.5 points) For each gene, test the null hypothesis,$H_0 \\colon \\mu_A = \\mu_B$, using $t$-test, when alternative hypothesis is $H_A\\colon \\mu_A \\ne \\mu_B$ and when alternative hypothesis is $H_A\\colon \\mu_A<\\mu_B$. How many genes have $p \\leq 0.05$? Use var.equal=TRUE argument with t.test function. Correct the p-values for multiple testing using your implementation of both methods. How many genes have adjusted $p \\leq 0.05$? Comment on differences, if any.\n",
    "\n",
    "### Part 1\n",
    "\n",
    "In this case we deal with $H_0 \\colon \\mu_A = \\mu_B$ and $H_A\\colon \\mu_A \\ne \\mu_B$ corresponding to a two-side $t$-test."
   ]
  },
  {
   "cell_type": "code",
   "execution_count": 29,
   "id": "e7b70006-bb7d-4d7c-b4b9-445bff860aa7",
   "metadata": {
    "tags": []
   },
   "outputs": [
    {
     "name": "stdout",
     "output_type": "stream",
     "text": [
      "p-values: 0.2009571 0.7263125 0.3538697 0.5854655 0.6701983 0.6144207 \n",
      "N. genes with p<0.05 26 \n",
      "N. genes false positive 6 \n",
      "N. genes false negative 0 \n"
     ]
    }
   ],
   "source": [
    "### two sided t-test\n",
    "\n",
    "n_genes <- nrow(data_A_new)\n",
    "p_values_two_tailed <- rep(0, n_genes)\n",
    "\n",
    "  for (i in 1:n_genes) {\n",
    "    t_test_result <- t.test(data_A_new[i,], data_B_new[i,], var.equal = TRUE, alternative = \"two.sided\")\n",
    "    p_values_two_tailed[i] <- t_test_result$p.value\n",
    "  }\n",
    "\n",
    "cat(\"p-values:\", head(p_values_two_tailed), \"\\n\")\n",
    "cat(\"N. genes with p<0.05\", sum(p_values_two_tailed <= 0.05, na.rm = TRUE),\"\\n\")\n",
    "\n",
    "#now i split the groups\n",
    "p_values_part1 <- head(p_values_two_tailed, 80)\n",
    "p_values_part2 <- tail(p_values_two_tailed, 20)\n",
    "\n",
    "# if H0 is rejected in part1: we have false positive\n",
    "cat(\"N. genes false positive\", sum(p_values_part1 <= 0.05, na.rm = TRUE),\"\\n\")\n",
    "\n",
    "# if H0 is rejected in part2: we have false negative\n",
    "cat(\"N. genes false negative\", sum(p_values_part2 >= 0.05, na.rm = TRUE),\"\\n\")"
   ]
  },
  {
   "cell_type": "code",
   "execution_count": 46,
   "id": "341ab123-ca74-4bfd-ac80-433c52b0269d",
   "metadata": {},
   "outputs": [
    {
     "name": "stdout",
     "output_type": "stream",
     "text": [
      "p-values: 0.2009571 0.7263125 0.3538697 0.5854655 0.6701983 0.6144207 \n",
      "N. genes with p<0.05 26 \n",
      "N. genes false positive 6 \n",
      "N. genes false negative 0 \n",
      "N. genes true positive 20 \n",
      "FDR 0.2307692 \n",
      "\n",
      "\n",
      "---------------------------\n",
      "        BONFERRONI              \n",
      "---------------------------\n",
      "p-values: 1 1 1 1 1 1 \n",
      "N. genes with p<0.05 7 \n",
      "N. genes false positive 0 \n",
      "N. genes false negative 13 \n",
      "N. genes true positive 7 \n",
      "FDR 0 \n",
      "\n",
      "\n",
      "---------------------------\n",
      "            BH              \n",
      "---------------------------\n",
      "N. genes with p<0.05 19 \n",
      "N. genes false positive 0 \n",
      "N. genes false negative 1 \n",
      "N. genes true positive 19 \n",
      "FDR 0 \n"
     ]
    }
   ],
   "source": [
    "### two sided t-test\n",
    "\n",
    "n_genes <- nrow(data_A_new)\n",
    "p_values_two_tailed <- rep(0, n_genes)\n",
    "\n",
    "  for (i in 1:n_genes) {\n",
    "    t_test_result <- t.test(data_A_new[i,], data_B_new[i,], var.equal = TRUE, alternative = \"two.sided\")\n",
    "    p_values_two_tailed[i] <- t_test_result$p.value\n",
    "  }\n",
    "\n",
    "cat(\"p-values:\", head(p_values_two_tailed), \"\\n\")\n",
    "cat(\"N. genes with p<0.05\", sum(p_values_two_tailed <= 0.05, na.rm = TRUE),\"\\n\")\n",
    "\n",
    "#now i split the groups\n",
    "p_values_part1 <- head(p_values_two_tailed, 80)\n",
    "p_values_part2 <- tail(p_values_two_tailed, 20)\n",
    "\n",
    "# if H0 is rejected in part1: we have false positive\n",
    "cat(\"N. genes false positive\", sum(p_values_part1 <= 0.05, na.rm = TRUE),\"\\n\")\n",
    "\n",
    "# if H0 is rejected in part2: we have false negative\n",
    "cat(\"N. genes false negative\", sum(p_values_part2 >= 0.05, na.rm = TRUE),\"\\n\")\n",
    "\n",
    "# if H0 is rejected in part2: we have false negative\n",
    "cat(\"N. genes true positive\", sum(p_values_part2 <= 0.05, na.rm = TRUE),\"\\n\")\n",
    "\n",
    "false_positive=sum(p_values_part1 <= 0.05, na.rm = TRUE)\n",
    "true_positives=sum(p_values_part2 <= 0.05, na.rm = TRUE)\n",
    "\n",
    "\n",
    "cat('\\n\\n---------------------------\\n')\n",
    "cat('        BONFERRONI              \\n')\n",
    "cat('---------------------------\\n')\n",
    "\n",
    "#I use bonferroni\n",
    "result_bonf <- bonferroni_correction(p_values_two_tailed,prnt = FALSE)\n",
    "adjusted_p_values_bonf_tow_tailed <- result_bonf$adjusted_p_values\n",
    "\n",
    "p_values_part1_bonf <- head(adjusted_p_values_bonf_tow_tailed, 80)\n",
    "p_values_part2_bonf <- tail(adjusted_p_values_bonf_tow_tailed, 20)\n",
    "\n",
    "cat(\"p-values:\", head(adjusted_p_values_bonf_tow_tailed ), \"\\n\")\n",
    "cat(\"N. genes with p<0.05\", sum(adjusted_p_values_bonf_tow_tailed  <= 0.05, na.rm = TRUE),\"\\n\")\n",
    "\n",
    "# if H0 is rejected in part1: we have false positive\n",
    "cat(\"N. genes false positive\", sum(p_values_part1_bonf <= 0.05, na.rm = TRUE),\"\\n\")\n",
    "\n",
    "# if H0 is rejected in part2: we have false negative\n",
    "cat(\"N. genes false negative\", sum(p_values_part2_bonf >= 0.05, na.rm = TRUE),\"\\n\")\n",
    "# if H0 is rejected in part2: we have false negative\n",
    "cat(\"N. genes true positive\", sum(p_values_part2_bonf <= 0.05, na.rm = TRUE),\"\\n\")\n",
    "\n",
    "false_positive=sum(p_values_part1_bonf <= 0.05, na.rm = TRUE)\n",
    "true_positives=sum(p_values_part2_bonf <= 0.05, na.rm = TRUE)\n",
    "\n",
    "cat('\\n\\n---------------------------\\n')\n",
    "cat('            BH              \\n')\n",
    "cat('---------------------------\\n')\n",
    "#I use BH\n",
    "result_bh <- bh_correction(p_values_two_tailed, prt = FALSE)\n",
    "adjusted_p_values_bh_tow_tailed <- result_bh$adjusted_p_value\n",
    "\n",
    "p_values_part1_bh <- head(adjusted_p_values_bh_tow_tailed, 80)\n",
    "p_values_part2_bh <- tail(adjusted_p_values_bh_tow_tailed, 20)\n",
    "\n",
    "cat(\"N. genes with p<0.05\", sum(adjusted_p_values_bh_tow_tailed  <= 0.05, na.rm = TRUE),\"\\n\")\n",
    "\n",
    "# if H0 is rejected in part1: we have false positive\n",
    "cat(\"N. genes false positive\", sum(p_values_part1_bh <= 0.05, na.rm = TRUE),\"\\n\")\n",
    "\n",
    "# if H0 is accepted in part2: we have false negative\n",
    "cat(\"N. genes false negative\", sum(p_values_part2_bh >= 0.05, na.rm = TRUE),\"\\n\")\n",
    "\n",
    "# if H0 is rejected in part2: we have false negative\n",
    "cat(\"N. genes true positive\", sum(p_values_part2_bh <= 0.05, na.rm = TRUE),\"\\n\")\n",
    "\n",
    "false_positive=sum(p_values_part1_bh <= 0.05, na.rm = TRUE)\n",
    "true_positives=sum(p_values_part2_bh <= 0.05, na.rm = TRUE)"
   ]
  },
  {
   "cell_type": "markdown",
   "id": "155e2d4d-a1ae-47fc-809d-26ce1dc60dae",
   "metadata": {},
   "source": [
    "### Part 2\n",
    "\n",
    "In this case we deal with $H_0 \\colon \\mu_A = \\mu_B$ and $H_A\\colon \\mu_A < \\mu_B$ corresponding to a one-side $t$-test."
   ]
  },
  {
   "cell_type": "code",
   "execution_count": 43,
   "id": "0118e9a9-9ca4-4d07-b78d-e643a4af919c",
   "metadata": {
    "tags": []
   },
   "outputs": [
    {
     "name": "stdout",
     "output_type": "stream",
     "text": [
      "p-values: 0.8995214 0.6368438 0.8230651 0.2927328 0.6649008 0.6927896 \n",
      "N. genes with p<0.05 27 \n",
      "N. genes false positive 7 \n",
      "N. genes false negative 0 \n",
      "N. genes true_positives 0 \n",
      "FDR 0.125 \n",
      "\n",
      "\n",
      "---------------------------\n",
      "        BONFERRONI              \n",
      "---------------------------\n",
      "p-values: 1 1 1 1 1 1 \n",
      "N. genes with p<0.05 12 \n",
      "N. genes false positive 0 \n",
      "N. genes false negative 8 \n",
      "N. genes true positive 8 \n",
      "FDR 0 \n",
      "\n",
      "\n",
      "---------------------------\n",
      "            BH              \n",
      "---------------------------\n",
      "N. genes with p<0.05 21 \n",
      "N. genes false positive 1 \n",
      "N. genes false negative 0 \n",
      "N. genes true positive 20 \n",
      "FDR 0.07692308 \n"
     ]
    }
   ],
   "source": [
    "### two sided t-test\n",
    "\n",
    "n_genes <- nrow(data_A_new)\n",
    "p_values_two_tailed <- rep(0, n_genes)\n",
    "\n",
    "  for (i in 1:n_genes) {\n",
    "    t_test_result <- t.test(data_A_new[i,], data_B_new[i,], var.equal = TRUE, alternative = \"less\")\n",
    "    p_values_two_tailed[i] <- t_test_result$p.value\n",
    "  }\n",
    "\n",
    "cat(\"p-values:\", head(p_values_two_tailed), \"\\n\")\n",
    "cat(\"N. genes with p<0.05\", sum(p_values_two_tailed <= 0.05, na.rm = TRUE),\"\\n\")\n",
    "\n",
    "#now i split the groups\n",
    "p_values_part1 <- head(p_values_two_tailed, 80)\n",
    "p_values_part2 <- tail(p_values_two_tailed, 20)\n",
    "\n",
    "# if H0 is rejected in part1: we have false positive\n",
    "cat(\"N. genes false positive\", sum(p_values_part1 <= 0.05, na.rm = TRUE),\"\\n\")\n",
    "\n",
    "false_negative=sum(p_values_part2 >= 0.05, na.rm = TRUE)\n",
    "# if H0 is rejected in part2: we have false negative\n",
    "cat(\"N. genes false negative\", sum(p_values_part2 >= 0.05, na.rm = TRUE),\"\\n\")\n",
    "\n",
    "true_positives=sum(p_values <= 0.05, na.rm = TRUE)\n",
    "cat(\"N. genes true_positives\", sum(p_values_part2 >= 0.05, na.rm = TRUE),\"\\n\")\n",
    "\n",
    "\n",
    "cat('\\n\\n---------------------------\\n')\n",
    "cat('        BONFERRONI              \\n')\n",
    "cat('---------------------------\\n')\n",
    "\n",
    "#I use bonferroni\n",
    "result_bonf <- bonferroni_correction(p_values_two_tailed,prnt = FALSE)\n",
    "adjusted_p_values_bonf_tow_tailed <- result_bonf$adjusted_p_values\n",
    "\n",
    "p_values_part1_bonf <- head(adjusted_p_values_bonf_tow_tailed, 80)\n",
    "p_values_part2_bonf <- tail(adjusted_p_values_bonf_tow_tailed, 20)\n",
    "\n",
    "cat(\"p-values:\", head(adjusted_p_values_bonf_tow_tailed ), \"\\n\")\n",
    "\n",
    "cat(\"N. genes with p<0.05\", sum(adjusted_p_values_bonf_tow_tailed  <= 0.05, na.rm = TRUE),\"\\n\")\n",
    "\n",
    "false_positive=sum(p_values_part1_bonf <= 0.05, na.rm = TRUE)\n",
    "# if H0 is rejected in part1: we have false positive\n",
    "cat(\"N. genes false positive\",false_positive ,\"\\n\")\n",
    "\n",
    "false_negative=sum(p_values_part2_bonf >= 0.05, na.rm = TRUE)\n",
    "# if H0 is rejected in part2: we have false negative\n",
    "cat(\"N. genes false negative\",false_negative ,\"\\n\")\n",
    "\n",
    "# if H0 is rejected in part2: is ok\n",
    "true_positives=sum(p_values_part2_bonf <= 0.05, na.rm = TRUE)\n",
    "cat(\"N. genes true positive\",false_negative ,\"\\n\")\n",
    "\n",
    "cat('\\n\\n---------------------------\\n')\n",
    "cat('            BH              \\n')\n",
    "cat('---------------------------\\n')\n",
    "#I use BH\n",
    "result_bh <- bh_correction(p_values_two_tailed, prt = FALSE)\n",
    "adjusted_p_values_bh_tow_tailed <- result_bh$adjusted_p_value\n",
    "\n",
    "p_values_part1_bh <- head(adjusted_p_values_bh_tow_tailed, 80)\n",
    "p_values_part2_bh <- tail(adjusted_p_values_bh_tow_tailed, 20)\n",
    "\n",
    "false_positive=sum(p_values_part1_bh <= 0.05, na.rm = TRUE)\n",
    "\n",
    "cat(\"N. genes with p<0.05\", sum(adjusted_p_values_bh_tow_tailed  <= 0.05, na.rm = TRUE),\"\\n\")\n",
    "\n",
    "# if H0 is rejected in part1: we have false positive\n",
    "cat(\"N. genes false positive\", sum(p_values_part1_bh <= 0.05, na.rm = TRUE),\"\\n\")\n",
    "\n",
    "false_negative=sum(p_values_part2_bh >= 0.05, na.rm = TRUE)\n",
    "# if H0 is rejected in part2: we have false negative\n",
    "cat(\"N. genes false negative\", sum(p_values_part2_bh >= 0.05, na.rm = TRUE),\"\\n\")\n",
    "\n",
    "true_positives=sum(p_values_part2_bonf <= 0.05, na.rm = TRUE)\n",
    "cat(\"N. genes true positive\",sum(p_values_part2_bh <= 0.05, na.rm = TRUE) ,\"\\n\")"
   ]
  },
  {
   "cell_type": "markdown",
   "id": "51ee85e0-8222-4a72-899b-0993c0b7051c",
   "metadata": {},
   "source": [
    "Both tests exhibit similar outcomes between Bonferroni and Benjamini-Hochberg.\n",
    "\n",
    "## Point g\n",
    ">(0.5 points) As in point (f), for each gene, test the null hypothesis, $H_0 : \\mu_A = \\mu_B$, using $t$-test, when alternative hypothesis is $H_A: \\mu_A ̸= \\mu_B$. Correct the $p$-values for multiple testing using your implementation of both methods. Empirically estimate the false discovery rate (FDR) for both methods. Similarly, for both methods check whether you have made at least one false discovery (recall the definition of family-wise error rate FWER). Repeat this analysis for 100 (or more) randomly generated datasets and report you average FDR and FWER values. Are your average FDR and FWER values close to what they should be?"
   ]
  },
  {
   "cell_type": "code",
   "execution_count": 76,
   "id": "52c6d96f-3e4d-4405-9e97-dce8f8982247",
   "metadata": {
    "tags": []
   },
   "outputs": [
    {
     "name": "stdout",
     "output_type": "stream",
     "text": [
      "$FDR_mean_bonf\n",
      "[1] 0.04\n",
      "\n",
      "$FWR_mean_bonf\n",
      "[1] 0.07\n",
      "\n",
      "$FDR_mean_bh\n",
      "[1] 0.04\n",
      "\n",
      "$FWR_mean_bh\n",
      "[1] 0.07\n",
      "\n"
     ]
    }
   ],
   "source": [
    "create_random_datasets <- function(num_datasets, n_genes, n_genes_group1, n_replicates, mu_A, mu_B, sd_value) {\n",
    "  \n",
    "  # Set default values if parameters are not provided\n",
    "  num_datasets <- if (missing(num_datasets)) 100 else num_datasets\n",
    "  n_genes <- if (missing(n_genes)) 80 else n_genes\n",
    "  n_genes_group1 <- if (missing(n_genes_group1)) 20 else n_genes_group1\n",
    "  n_replicates <- if (missing(n_replicates)) 8 else n_replicates\n",
    "  mu_A <- if (missing(mu_A)) 0 else mu_A\n",
    "  mu_B <- if (missing(mu_B)) 4 else mu_B\n",
    "  sd_value <- if (missing(sd_value)) sqrt(3) else sd_value\n",
    "\n",
    "  dataset_list <- list()\n",
    "  \n",
    "  # Remove the seed to obtain random variations\n",
    "  set.seed(NULL)\n",
    "  \n",
    "  FWR_mean_bonf <- 0\n",
    "  FDR_mean_bonf <- 0\n",
    "  FWR_mean_bh <- 0\n",
    "  FDR_mean_bh <- 0\n",
    "\n",
    "  for (i in 1:num_datasets) {\n",
    "    FWR_bonf <- 0\n",
    "    FDR_bonf <- 0\n",
    "    FWR_bh <- 0\n",
    "    FDR_bh <- 0\n",
    "\n",
    "    # Group A\n",
    "    tmp1_A <- matrix(rnorm(n_genes * n_replicates, mean = mu_A, sd = sd_value), nrow = n_genes, ncol = n_replicates)\n",
    "    tmp2_A <- matrix(rnorm(n_genes_group1 * n_replicates, mean = mu_A, sd = sd_value), nrow = n_genes_group1, ncol = n_replicates)\n",
    "    data_A <- rbind(tmp1_A, tmp2_A)\n",
    "\n",
    "    # Group B\n",
    "    tmp1_B <- matrix(rnorm(n_genes * n_replicates, mean = mu_A, sd = sd_value), nrow = n_genes, ncol = n_replicates)\n",
    "    tmp2_B <- matrix(rnorm(n_genes_group1 * n_replicates, mean = mu_B, sd = sd_value), nrow = n_genes_group1, ncol = n_replicates)\n",
    "    data_B <- rbind(tmp1_B, tmp2_B)\n",
    "\n",
    "    # perform two-tailed p test\n",
    "    p_values <- numeric(n_genes)\n",
    "    for (j in 1:n_genes) {\n",
    "      t_test_result <- t.test(data_A[j,], data_B[j,], var.equal = TRUE, alternative = \"less\")\n",
    "      p_values[j] <- t_test_result$p.value\n",
    "    }\n",
    "      \n",
    "    #compute bonferroni\n",
    "    tmp <- bonferroni_correction(p_values, prnt = FALSE)\n",
    "    p_bonf <- tmp$adjusted_p_value\n",
    "  \n",
    "    upper_group <- head(p_bonf, 80)\n",
    "    lower_group <- tail(p_bonf, 20)\n",
    "  \n",
    "    err_bonf <- sum(upper_group <= 0.05, na.rm = TRUE)\n",
    "    FDR_bonf <- 0\n",
    "    if (sum(p_bonf <= 0.05, na.rm = TRUE) > 0) {\n",
    "        FDR_bonf <- err_bonf / sum(p_bonf <= 0.05, na.rm = TRUE)\n",
    "    }\n",
    "    \n",
    "    FDR_mean_bonf <- FDR_mean_bonf + FDR_bonf \n",
    "  \n",
    "    FWR_bonf <- err_bonf+sum(lower_group <= 0.05, na.rm = TRUE)\n",
    "    FWR_mean_bonf <- FWR_mean_bonf + FWR_bonf\n",
    "      \n",
    "    #compute BH\n",
    "    tmp <- bh_correction(p_values, prt = FALSE)\n",
    "    p_bh <- tmp$adjusted_p_value\n",
    "  \n",
    "    upper_group <- head(p_bh, 80)\n",
    "    lower_group <- tail(p_bh, 20)\n",
    "  \n",
    "    err_bh <- sum(upper_group <= 0.05, na.rm = TRUE)\n",
    "  \n",
    "    FDR_bh <- 0\n",
    "      \n",
    "    if (sum(p_bh <= 0.05, na.rm = TRUE) > 0) {\n",
    "         FDR_bh <- err_bh / sum(p_bh <= 0.05, na.rm = TRUE)\n",
    "    }\n",
    "      \n",
    "    FDR_mean_bh <- FDR_mean_bh + FDR_bh\n",
    "  \n",
    "    # Calcola l'FWR\n",
    "    FWR_bh <- err_bh+sum(lower_group <= 0.05, na.rm = TRUE)\n",
    "    FWR_mean_bh <- FWR_mean_bh + FWR_bh\n",
    "    \n",
    "    \n",
    "\n",
    "    # Store the dataset in the list\n",
    "    dataset_list[[i]] <- list(group_A = data_A, group_B = data_B)\n",
    "  }\n",
    "    \n",
    "  #compute means\n",
    "  FDR_mean_bonf <- FDR_mean_bonf / num_datasets\n",
    "  FWR_mean_bonf <- FWR_mean_bonf / num_datasets\n",
    "  FDR_mean_bh <- FDR_mean_bh / num_datasets\n",
    "  FWR_mean_bh <- FWR_mean_bh / num_datasets\n",
    "\n",
    "  return(list(FDR_mean_bonf = FDR_mean_bonf, FWR_mean_bonf = FWR_mean_bonf, FDR_mean_bh = FDR_mean_bh, FWR_mean_bh = FWR_mean_bh))\n",
    "}\n",
    "\n",
    "# Utilizzo della funzione\n",
    "my_datasets <- create_random_datasets()\n",
    "\n",
    "results <- create_random_datasets()\n",
    "print(results)"
   ]
  },
  {
   "cell_type": "code",
   "execution_count": null,
   "id": "99a5c834-3053-4559-975d-4e395186d7ab",
   "metadata": {},
   "outputs": [],
   "source": []
  }
 ],
 "metadata": {
  "kernelspec": {
   "display_name": "R",
   "language": "R",
   "name": "ir"
  },
  "language_info": {
   "codemirror_mode": "r",
   "file_extension": ".r",
   "mimetype": "text/x-r-source",
   "name": "R",
   "pygments_lexer": "r",
   "version": "4.3.1"
  }
 },
 "nbformat": 4,
 "nbformat_minor": 5
}
