{
 "cells": [
  {
   "cell_type": "markdown",
   "id": "71102938-9243-4007-8a11-863f3fcc96f1",
   "metadata": {
    "tags": []
   },
   "source": [
    "# Assignment 3\n",
    "\n",
    "Run twice please.\n",
    "\n",
    "<hr style=\"border:2px solid gray\">\n",
    "\n",
    "## Point 1\n",
    "\n",
    ">Download **rrbsData.RData** file and read it into R using **load** function. Take a look at the **BsRaw** data object, including the assays, **rowRanges** and **colData** slots. \n",
    "\n",
    ">Filter the data to include only loci that have minimum 11x coverage in all samples and use this subset for all downstream analysis."
   ]
  },
  {
   "cell_type": "code",
   "execution_count": 2,
   "id": "74ae211f-f621-4eb8-9bb8-948832322b9d",
   "metadata": {
    "tags": []
   },
   "outputs": [],
   "source": [
    "library(aods3)\n",
    "library(limma)\n",
    "library(BiSeq)"
   ]
  },
  {
   "cell_type": "code",
   "execution_count": 3,
   "id": "f36e01e7-1768-4689-b1c1-2b8318c53a1f",
   "metadata": {
    "tags": []
   },
   "outputs": [
    {
     "data": {
      "text/html": [
       "'rrbs'"
      ],
      "text/latex": [
       "'rrbs'"
      ],
      "text/markdown": [
       "'rrbs'"
      ],
      "text/plain": [
       "[1] \"rrbs\""
      ]
     },
     "metadata": {},
     "output_type": "display_data"
    },
    {
     "data": {
      "text/plain": [
       "class: BSraw \n",
       "dim: 963 4 \n",
       "metadata(0):\n",
       "assays(2): totalReads methReads\n",
       "rownames: NULL\n",
       "rowData names(0):\n",
       "colnames(4): sample1 sample2 sample3 sample4\n",
       "colData names(1): group"
      ]
     },
     "metadata": {},
     "output_type": "display_data"
    }
   ],
   "source": [
    "#data loading of rrbs\n",
    "load(\"rrbsData.RData\")\n",
    "ls()\n",
    "rrbs"
   ]
  },
  {
   "cell_type": "code",
   "execution_count": 4,
   "id": "0ad15404-0bae-4372-87cd-e984f3fc352e",
   "metadata": {
    "tags": []
   },
   "outputs": [
    {
     "data": {
      "text/plain": [
       "class: BSraw \n",
       "dim: 854 4 \n",
       "metadata(0):\n",
       "assays(2): totalReads methReads\n",
       "rownames: NULL\n",
       "rowData names(0):\n",
       "colnames(4): sample1 sample2 sample3 sample4\n",
       "colData names(1): group"
      ]
     },
     "metadata": {},
     "output_type": "display_data"
    }
   ],
   "source": [
    "# Extract coverage information from the assays slot\n",
    "coverage <- rrbs@assays$data$totalReads  # Assuming totalReads represent coverage info\n",
    "\n",
    "# Check minimum coverage across all samples\n",
    "min_coverage <- apply(coverage, 1, min)\n",
    "\n",
    "# Filter the rows (loci) based on the coverage threshold (minimum 11x in all samples)\n",
    "filtered_rows <- which(min_coverage >= 11)\n",
    "rrbs_filtered <- rrbs[filtered_rows, ]\n",
    "\n",
    "# Check dimensions of the filtered data\n",
    "rrbs_filtered"
   ]
  },
  {
   "cell_type": "markdown",
   "id": "36d61616-bd30-41c0-b8b5-09e3559e4eed",
   "metadata": {},
   "source": [
    "<hr style=\"border:1px solid gray\">\n",
    "\n",
    "## Point 2\n",
    "\n",
    ">Compute the estimated methylation fraction for each locus and for each sample. Plot a histogram of the methylation fractions for each sample. Comment on the distribution."
   ]
  },
  {
   "cell_type": "code",
   "execution_count": 5,
   "id": "6c3e20a1-13aa-42b1-a69f-cd06eaab29ee",
   "metadata": {
    "tags": []
   },
   "outputs": [
    {
     "data": {
      "text/html": [
       "<strong>png:</strong> 2"
      ],
      "text/latex": [
       "\\textbf{png:} 2"
      ],
      "text/markdown": [
       "**png:** 2"
      ],
      "text/plain": [
       "png \n",
       "  2 "
      ]
     },
     "metadata": {},
     "output_type": "display_data"
    },
    {
     "data": {
      "image/png": "[encoded data removed]",
      "text/plain": [
       "plot without title"
      ]
     },
     "metadata": {
      "image/png": {
       "height": 420,
       "width": 420
      }
     },
     "output_type": "display_data"
    }
   ],
   "source": [
    "\n",
    "methylation_fractions <- rrbs@assays$data$methReads / rrbs@assays$data$totalReads\n",
    "\n",
    "par(mar = c(2, 2, 2, 2))\n",
    "par(mfrow = c(2, 2))\n",
    "\n",
    "for (i in 1:ncol(methylation_fractions)) {\n",
    "  hist(methylation_fractions[, i], main = colnames(methylation_fractions)[i], xlab = \"Methylation Fraction\")\n",
    "}\n",
    "\n",
    "pdf(\"meth-fractions.pdf\")\n",
    "par(mar = c(2, 2, 2, 2))\n",
    "par(mfrow = c(2, 2))\n",
    "\n",
    "for (i in 1:ncol(methylation_fractions)) {\n",
    "  hist(methylation_fractions[, i], main = colnames(methylation_fractions)[i], xlab = \"Methylation Fraction\")\n",
    "}\n",
    "\n",
    "dev.off()"
   ]
  },
  {
   "cell_type": "markdown",
   "id": "dd3a520c-8469-41aa-9239-79213f149732",
   "metadata": {},
   "source": [
    "<hr style=\"border:1px solid gray\">\n",
    "\n",
    "## Point 3\n",
    "\n",
    "> Compute the M-values for each locus and sample. M-value is calculated as\n",
    "$$\n",
    "M =\\logit \\left(\\frac{y_\\text{meth}+2}{y_\\text{total}+2}\\right)\n",
    "$$\n",
    "where $y_\\text{meth}$ is the number of methylated reads and ytotal is the number of total reads. The above transformation adds pseudocounts to the read counts to avoid exact zeros and ones which would result to $\\pm \\infty$ in the logit transformation: +1 is added to both methylated and unmethylated reads (+2 added to total reads). Plot a histogram of M-values for each sample. Comment on the distribution (tasks 1, 2 and 3, 0.5 point altogether)."
   ]
  },
  {
   "cell_type": "code",
   "execution_count": 6,
   "id": "c08f667f-c93c-4e4a-8a45-029116d3a455",
   "metadata": {
    "tags": []
   },
   "outputs": [
    {
     "data": {
      "text/html": [
       "<strong>png:</strong> 2"
      ],
      "text/latex": [
       "\\textbf{png:} 2"
      ],
      "text/markdown": [
       "**png:** 2"
      ],
      "text/plain": [
       "png \n",
       "  2 "
      ]
     },
     "metadata": {},
     "output_type": "display_data"
    },
    {
     "data": {
      "image/png": "[encoded data removed]",
      "text/plain": [
       "Plot with title “Sample 4”"
      ]
     },
     "metadata": {
      "image/png": {
       "height": 420,
       "width": 420
      }
     },
     "output_type": "display_data"
    }
   ],
   "source": [
    "\n",
    "# Calculate M-values\n",
    "y_meth <- rrbs_filtered@assays$data$methReads\n",
    "y_total <- rrbs_filtered@assays$data$totalReads\n",
    "\n",
    "pseudo_y_meth <- y_meth + 1\n",
    "pseudo_y_total <- y_total + 2\n",
    "\n",
    "# Compute M-values\n",
    "M_values <- qlogis(pseudo_y_meth / pseudo_y_total)\n",
    "\n",
    "# Plot histograms of M-values for each sample\n",
    "par(mar = c(2, 2, 2, 2))\n",
    "par(mfrow = c(2, 2))\n",
    "\n",
    "for (i in 1:ncol(M_values)) {\n",
    "  hist(M_values[, i], main = paste(\"Sample\", i), xlab = \"M-values\")\n",
    "}\n",
    "\n",
    "# Save the plots to a PDF file\n",
    "pdf(\"M-values_histograms.pdf\")\n",
    "par(mar = c(2, 2, 2, 2))\n",
    "par(mfrow = c(2, 2))\n",
    "\n",
    "for (i in 1:ncol(M_values)) {\n",
    "  hist(M_values[, i], main = paste(\"Sample\", i), xlab = \"M-values\")\n",
    "}\n",
    "\n",
    "dev.off()"
   ]
  },
  {
   "cell_type": "markdown",
   "id": "24e9a3e2-0966-45cd-8410-9ee1dc01a76d",
   "metadata": {},
   "source": [
    "<hr style=\"border:1px solid gray\">\n",
    "\n",
    "## Point 4\n",
    "\n",
    ">Assume that the M-values can be approximated by a normal distribution and identify the differentially methylated loci (DML) between treatment and control groups using limma. limma implements the so-called moderated t-test that shares information between genes for more robust variance estimation. Use the information in the colData object to construct the design matrix, and check that the design matrix includes the intercept term. Adjust p-values for multiple testing using Benjamini-Hochberg procedure and count the number of loci with FDR < 0.05 (2 points).\n",
    "\n",
    "I'll be utilizing the built-in function for Benjamin-Hochberg, as it has already been implemented in my previous exercise."
   ]
  },
  {
   "cell_type": "code",
   "execution_count": 7,
   "id": "a6ec6788-a43a-4d70-b7aa-5e9a80f89f60",
   "metadata": {
    "tags": []
   },
   "outputs": [
    {
     "name": "stdout",
     "output_type": "stream",
     "text": [
      "[1] \"treatment\" \"treatment\" \"control\"   \"control\"  \n",
      "          [,1]     [,2]      [,3]      [,4]\n",
      "[1,] 0.3184537 1.405057 1.7346011 1.8274776\n",
      "[2,] 0.7731899 1.127012 1.6094379 1.0881410\n",
      "[3,] 2.9704145 2.577688 4.4308168 3.0204249\n",
      "[4,] 0.4653632 1.876917 1.1526795 1.9169226\n",
      "[5,] 1.1370786 2.574519 0.4054651 0.9343092\n",
      "[6,] 1.7917595 3.601868 1.3350011 1.2039728\n"
     ]
    },
    {
     "data": {
      "text/html": [
       "<style>\n",
       ".list-inline {list-style: none; margin:0; padding: 0}\n",
       ".list-inline>li {display: inline-block}\n",
       ".list-inline>li:not(:last-child)::after {content: \"\\00b7\"; padding: 0 .5ex}\n",
       "</style>\n",
       "<ol class=list-inline><li>4</li><li>2</li></ol>\n"
      ],
      "text/latex": [
       "\\begin{enumerate*}\n",
       "\\item 4\n",
       "\\item 2\n",
       "\\end{enumerate*}\n"
      ],
      "text/markdown": [
       "1. 4\n",
       "2. 2\n",
       "\n",
       "\n"
      ],
      "text/plain": [
       "[1] 4 2"
      ]
     },
     "metadata": {},
     "output_type": "display_data"
    },
    {
     "name": "stdout",
     "output_type": "stream",
     "text": [
      "  (Intercept) colData(rrbs_filtered)$grouptreatment\n",
      "1           1                                     1\n",
      "2           1                                     1\n",
      "3           1                                     0\n",
      "4           1                                     0\n",
      "attr(,\"assign\")\n",
      "[1] 0 1\n",
      "attr(,\"contrasts\")\n",
      "attr(,\"contrasts\")$`colData(rrbs_filtered)$group`\n",
      "[1] \"contr.treatment\"\n",
      "\n",
      "                 Length Class  Mode     \n",
      "coefficients     1708   -none- numeric  \n",
      "rank                1   -none- numeric  \n",
      "assign              2   -none- numeric  \n",
      "qr                  5   qr     list     \n",
      "df.residual       854   -none- numeric  \n",
      "sigma             854   -none- numeric  \n",
      "cov.coefficients    4   -none- numeric  \n",
      "stdev.unscaled   1708   -none- numeric  \n",
      "pivot               2   -none- numeric  \n",
      "Amean             854   -none- numeric  \n",
      "method              1   -none- character\n",
      "design              8   -none- numeric  \n",
      "                 Length Class  Mode     \n",
      "coefficients     1708   -none- numeric  \n",
      "rank                1   -none- numeric  \n",
      "assign              2   -none- numeric  \n",
      "qr                  5   qr     list     \n",
      "df.residual       854   -none- numeric  \n",
      "sigma             854   -none- numeric  \n",
      "cov.coefficients    4   -none- numeric  \n",
      "stdev.unscaled   1708   -none- numeric  \n",
      "pivot               2   -none- numeric  \n",
      "Amean             854   -none- numeric  \n",
      "method              1   -none- character\n",
      "design              8   -none- numeric  \n",
      "df.prior            1   -none- numeric  \n",
      "s2.prior            1   -none- numeric  \n",
      "var.prior           2   -none- numeric  \n",
      "proportion          1   -none- numeric  \n",
      "s2.post           854   -none- numeric  \n",
      "t                1708   -none- numeric  \n",
      "df.total          854   -none- numeric  \n",
      "p.value          1708   -none- numeric  \n",
      "lods             1708   -none- numeric  \n",
      "F                 854   -none- numeric  \n",
      "F.p.value         854   -none- numeric  \n",
      "     Min.   1st Qu.    Median      Mean   3rd Qu.      Max. \n",
      "0.0000000 0.0000137 0.0851831 0.2495425 0.4514378 1.0000000 \n",
      "[1] \"Numero di loci con FDR < 0.05: 807\"\n"
     ]
    }
   ],
   "source": [
    "group <- colData(rrbs_filtered)$group\n",
    "\n",
    "print(head(group))\n",
    "print(head(M_values))\n",
    "\n",
    "design_matrix <- model.matrix(~colData(rrbs_filtered)$group)\n",
    "dim(design_matrix)\n",
    "print(design_matrix)\n",
    "\n",
    "fit <- lmFit(M_values, design_matrix)\n",
    "print(summary(fit))\n",
    "\n",
    "eb <- eBayes(fit)\n",
    "print(summary(eb))\n",
    "\n",
    "fdr <- p.adjust(eb$p.value, method = \"BH\")\n",
    "print(summary(fdr))\n",
    "\n",
    "num_sig_loci <- sum(fdr < 0.05)\n",
    "print(paste(\"Number of loci with FDR < 0.05:\", num_sig_loci))"
   ]
  },
  {
   "cell_type": "code",
   "execution_count": 8,
   "id": "b6f3fe64-7950-4f94-b3b1-de363f3b6138",
   "metadata": {
    "tags": []
   },
   "outputs": [
    {
     "name": "stdout",
     "output_type": "stream",
     "text": [
      "[1] \"treatment\" \"control\"  \n"
     ]
    }
   ],
   "source": [
    "unique_groups <- unique(colData(rrbs_filtered)$group)\n",
    "print(unique_groups)"
   ]
  },
  {
   "cell_type": "markdown",
   "id": "8cbc349f-f735-4fca-b339-3b70eb5340d1",
   "metadata": {},
   "source": [
    "<hr style=\"border:1px solid gray\">\n",
    "\n",
    "## Point 5\n",
    "\n",
    "> Analyze the data using beta-binomial model. For this task you will use the aodml function from the aods3 package. Add pseudocounts to the methylated and total number of reads before learning the model. (Note that adding pseudocounts is not necessary for this model in general but numerical optimization can occasionally fail without these counts, if $y_\\text{meth} = 0$ or $y_\\text{meth} = y_\\text{total}$ for all samples.) Learn 1) the full model and 2) the reduced model without the test factor. Note that the required data input to aodml function is a data frame. Check the template code for further help with the function (2 points).\n",
    "\n",
    "### Guide Lines\n",
    "    a. Pay attention to constructing the data frame\n",
    "    b. The filtered data should be used\n",
    "    c. See the code template for usage of aodml\n",
    "    d. If you get warnings, they can be ignored\n"
   ]
  },
  {
   "cell_type": "code",
   "execution_count": 9,
   "id": "b59fe30f-f04d-4623-a3f2-bac7b0c14bf5",
   "metadata": {
    "tags": []
   },
   "outputs": [],
   "source": [
    "# Initializing vector for p-values\n",
    "pvals <- c()\n",
    "\n",
    "# For each locus i...\n",
    "for (i in 1:nrow(rrbs_filtered)) {\n",
    "  \n",
    "  suppressWarnings({\n",
    "    # Creating a data frame for individual locus i\n",
    "    df <- data.frame(\n",
    "      n = rrbs_filtered@assays$data$totalReads[i, ], # Get the total cytosine coverage\n",
    "      m = rrbs_filtered@assays$data$methReads[i, ]   # Get the methylated cytosine count\n",
    "    )\n",
    "    \n",
    "    # Adding the 'case' variable to the data frame\n",
    "    df$case <- 0\n",
    "    df$case[rrbs_filtered$group == 'treatment'] <- 1\n",
    "    \n",
    "    # Learn the full model\n",
    "    fm <- aodml(cbind(m, n - m) ~ . , data = df, family = \"bb\",\n",
    "                link = 'logit', phi.scale = 'log', method = 'BFGS')\n",
    "    \n",
    "    # Learn the reduced model\n",
    "    rm <- aodml(cbind(m, n - m) ~ 1 , data = df, family = \"bb\",\n",
    "                link = 'logit', phi.scale = 'log', method = 'Nelder-Mead')\n",
    "    \n",
    "    # Calculation of log-likelihood ratio and p-value \n",
    "    log_likelihood_diff <- 2 * (logLik(fm) - logLik(rm))\n",
    "    \n",
    "    # Calculation of p-value using the chi-squared distribution\n",
    "    pvals[i] <- pchisq(log_likelihood_diff, 1, lower.tail = FALSE)\n",
    "  })\n",
    "}"
   ]
  },
  {
   "cell_type": "code",
   "execution_count": 10,
   "id": "09eb95fc-6662-4b44-8f44-44db23fb0594",
   "metadata": {
    "tags": []
   },
   "outputs": [
    {
     "name": "stdout",
     "output_type": "stream",
     "text": [
      "0.1445552 1 0.2605618 0.8541684 0.2932088"
     ]
    }
   ],
   "source": [
    " # Cp-values\n",
    "fdr2 <- p.adjust(pvals, method = \"BH\")\n",
    "cat(head(fdr2,5))"
   ]
  },
  {
   "cell_type": "markdown",
   "id": "d707000b-3e81-4e55-bf45-e7277ecc08e2",
   "metadata": {},
   "source": [
    "<hr style=\"border:1px solid gray\">\n",
    "\n",
    "## Point 6\n",
    "\n",
    ">Compare the full and reduced models by computing the log-likelihood ratios and test for significance using the chi-squared test. Correct the p-values for multiple testing and count the loci with FDR< 0.05 (0.25 point).\n",
    "\n",
    "Pay attention on computing the log-likelihood ratio test and the degrees of\n",
    "freedom"
   ]
  },
  {
   "cell_type": "code",
   "execution_count": 11,
   "id": "02656976-aebf-409e-85b8-6b754592548d",
   "metadata": {
    "tags": []
   },
   "outputs": [
    {
     "name": "stdout",
     "output_type": "stream",
     "text": [
      "Num loci with FDR < 0.05 25"
     ]
    }
   ],
   "source": [
    "# Count the loci with FDR < 0.05\n",
    "num_sig_loci <- sum(fdr2 < 0.05)\n",
    "cat('Num loci with FDR < 0.05',num_sig_loci)"
   ]
  },
  {
   "cell_type": "markdown",
   "id": "e5a55e37-99d1-4235-a4ec-cdee89381572",
   "metadata": {
    "tags": []
   },
   "source": [
    "<hr style=\"border:1px solid gray\">\n",
    "\n",
    "## Point 7\n",
    "\n",
    ">Compare the DML obtained with limma and aodml. How many DML\n",
    "do you get from each method? How many DML are unique to each\n",
    "method? Comment on the possible sources of differences between the\n",
    "two methods (0.25 point).\n",
    "\n",
    "    1. When determining the unique DML for each method, report the number of indexes of DMLs uniquely identified by the methods. Do not report number of DMLs based on unique fdr or p-values.\n",
    "    2. Possibly useful functions which() and %in%\n",
    "\n"
   ]
  },
  {
   "cell_type": "code",
   "execution_count": 13,
   "id": "c6a069fc-3054-47b7-8229-e48bcbc81dc4",
   "metadata": {
    "tags": []
   },
   "outputs": [
    {
     "name": "stdout",
     "output_type": "stream",
     "text": [
      "Total DMLs identified by limma: 807 \n",
      "Total DMLs identified by aodml: 25 \n",
      "DMLs unique to limma (Indexes): 1 2 3 4 8 9 10 14 15 17 20 21 22 23 24 26 27 28 29 32 39 41 45 53 55 57 58 60 61 62 64 68 69 73 75 76 77 78 79 80 81 82 83 85 87 88 89 94 95 96 98 100 101 102 103 104 105 106 108 109 110 115 116 118 119 120 121 123 125 126 128 129 132 134 136 138 139 141 142 144 145 146 147 148 149 150 151 152 153 154 156 157 158 160 161 162 163 164 165 166 167 168 169 170 172 173 175 177 178 179 180 182 183 184 187 188 190 192 193 194 195 196 197 200 201 203 206 207 209 210 211 213 214 215 217 218 224 225 226 227 229 230 231 232 233 234 235 236 239 240 241 242 243 245 246 247 248 249 250 251 253 254 255 256 259 260 261 262 263 264 267 275 285 295 296 306 307 309 316 317 318 319 320 321 322 323 325 326 327 328 329 330 331 332 333 334 335 336 337 338 339 340 341 342 343 344 345 346 347 348 349 350 351 352 353 354 356 357 358 359 360 361 362 363 365 366 367 368 369 370 371 372 373 374 375 376 377 378 379 380 381 382 383 384 385 386 387 388 389 390 391 392 393 394 395 396 397 398 399 400 401 402 403 404 405 406 407 408 409 410 411 412 413 414 415 416 417 418 419 420 421 422 423 424 425 426 427 428 429 430 431 432 433 434 435 436 437 438 439 440 441 442 443 444 445 446 447 448 449 450 451 452 453 454 455 456 457 458 459 460 461 462 463 464 465 466 467 468 469 470 471 472 473 474 475 476 477 478 479 480 481 482 483 484 485 486 487 488 489 490 491 492 493 494 495 496 497 498 499 500 501 502 503 504 505 506 507 508 509 510 511 512 513 514 515 516 517 518 519 520 521 522 523 524 525 526 527 528 529 530 531 532 533 534 535 536 538 539 540 541 542 543 544 545 546 547 548 549 550 551 552 553 554 555 556 557 558 559 560 561 562 563 564 565 566 567 568 569 570 571 572 573 574 575 576 577 578 579 580 581 582 583 584 585 586 587 588 589 590 591 592 593 594 595 596 597 598 599 600 601 602 603 604 605 606 607 608 609 610 611 612 613 614 615 616 617 618 619 620 621 622 623 624 625 626 627 628 629 630 632 634 635 636 637 638 639 640 641 643 644 645 646 647 649 650 651 652 653 654 655 656 657 658 659 660 661 662 663 664 665 666 667 668 669 670 671 672 673 674 675 676 677 678 679 680 681 682 683 684 685 686 687 688 689 690 691 692 693 694 695 696 697 698 699 700 701 702 703 704 705 706 707 708 709 710 711 712 713 714 715 716 717 718 719 720 721 722 723 724 725 726 727 728 729 730 731 732 733 734 735 736 737 738 739 740 741 742 745 746 747 748 750 751 752 753 754 755 756 757 758 759 760 761 762 763 764 765 766 767 768 769 770 771 772 773 774 775 776 777 778 779 780 781 782 783 784 785 786 787 788 789 790 791 792 793 794 795 796 797 798 799 800 801 802 803 804 805 806 807 808 809 810 811 813 814 816 817 818 820 821 822 823 824 826 827 828 829 830 831 832 833 834 835 836 837 838 839 840 841 842 844 845 846 847 848 849 850 851 852 853 854 877 878 881 884 887 888 896 897 903 908 918 927 937 992 1003 1006 1023 1030 1038 1060 1091 1092 1099 1119 1123 1124 1126 1127 1132 1133 1134 1136 1137 1139 1140 1146 1149 1150 1151 1152 1153 1154 1156 1157 1158 1159 1166 1169 1182 1184 1187 1190 1205 1218 1391 1395 1396 1480 1484 1488 1491 1496 1502 1503 1600 1647 1654 1655 1657 1658 1659 1660 1661 1662 1663 1664 1665 1666 1667 1668 1669 1670 1671 1673 1679 1680 1687 1688 1689 1690 1691 1692 1697 \n",
      "DMLs unique to aodml (Indexes): 33 42 51 54 176 228 269 278 297 299 300 312 \n",
      "Number of DMLs unique to limma: 794 \n",
      "Number of DMLs unique to aodml: 12 \n"
     ]
    }
   ],
   "source": [
    "limma_DML_indexes <- which(fdr < 0.05)  # fdr with the limma results\n",
    "\n",
    "aodml_DML_indexes <- which(fdr2 < 0.05)  # fdr2 with the aodml results\n",
    "\n",
    "# Find DMLs unique to limma\n",
    "limma_unique_indexes <- limma_DML_indexes[!(limma_DML_indexes %in% aodml_DML_indexes)]\n",
    "\n",
    "# Find DMLs unique to aodml\n",
    "aodml_unique_indexes <- aodml_DML_indexes[!(aodml_DML_indexes %in% limma_DML_indexes)]\n",
    "\n",
    "# Get the total number of DMLs identified by each method\n",
    "num_limma_DMLs <- length(limma_DML_indexes)\n",
    "num_aodml_DMLs <- length(aodml_DML_indexes)\n",
    "\n",
    "# Get the number of DMLs unique to each method\n",
    "num_limma_unique <- length(limma_unique_indexes)\n",
    "num_aodml_unique <- length(aodml_unique_indexes)\n",
    "\n",
    "# Print the results\n",
    "cat(\"Total DMLs identified by limma:\", num_limma_DMLs, \"\\n\")\n",
    "cat(\"Total DMLs identified by aodml:\", num_aodml_DMLs, \"\\n\")\n",
    "cat(\"DMLs unique to limma (Indexes):\", limma_unique_indexes, \"\\n\")\n",
    "cat(\"DMLs unique to aodml (Indexes):\", aodml_unique_indexes, \"\\n\")\n",
    "cat(\"Number of DMLs unique to limma:\", num_limma_unique, \"\\n\")\n",
    "cat(\"Number of DMLs unique to aodml:\", num_aodml_unique, \"\\n\")"
   ]
  },
  {
   "cell_type": "code",
   "execution_count": null,
   "id": "cb894a0a-acc5-488e-a0b6-f209264c3f6d",
   "metadata": {},
   "outputs": [],
   "source": []
  }
 ],
 "metadata": {
  "kernelspec": {
   "display_name": "R",
   "language": "R",
   "name": "ir"
  },
  "language_info": {
   "codemirror_mode": "r",
   "file_extension": ".r",
   "mimetype": "text/x-r-source",
   "name": "R",
   "pygments_lexer": "r",
   "version": "4.3.1"
  }
 },
 "nbformat": 4,
 "nbformat_minor": 5
}
